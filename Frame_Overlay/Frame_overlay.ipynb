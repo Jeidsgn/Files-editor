{
 "cells": [
  {
   "cell_type": "markdown",
   "id": "0dbdf101-2c49-42cc-bcdb-36ec1578d0ff",
   "metadata": {},
   "source": [
    "## Dependencias"
   ]
  },
  {
   "cell_type": "code",
   "execution_count": 1,
   "id": "7e89b84f-5d52-47d9-9944-3d7ad72a2e96",
   "metadata": {},
   "outputs": [],
   "source": [
    "#pip install opencv-python\n",
    "#pip install --upgrade opencv-python\n",
    "#pip install torch --upgrade\n",
    "#pip install ezsynth --force-reinstall\n",
    "#pip install torch torchvision torchaudio --index-url https://download.pytorch.org/whl/cu118 --force-reinstall\n",
    "#pip install --upgrade ezsynth"
   ]
  },
  {
   "cell_type": "code",
   "execution_count": 18,
   "id": "edfbcec6-1e6f-4b7b-bb1c-556b257ad24a",
   "metadata": {},
   "outputs": [],
   "source": [
    "import os\n",
    "import cv2\n",
    "import shutil"
   ]
  },
  {
   "cell_type": "markdown",
   "id": "728b858c-2ef9-471b-84b6-5cf1f8c2500f",
   "metadata": {},
   "source": [
    "## Renombrado"
   ]
  },
  {
   "cell_type": "code",
   "execution_count": 22,
   "id": "f0e5b719-0a9a-4431-802e-a3902ec49706",
   "metadata": {},
   "outputs": [
    {
     "name": "stdout",
     "output_type": "stream",
     "text": [
      "Renombrado completado.\n"
     ]
    }
   ],
   "source": [
    "# Rutas de las dos carpetas\n",
    "carpeta_original = \"C:/Users/Jei/Documents/Files_Editor/Keys\"\n",
    "carpeta_editada = \"C:/Users/Jei/Documents/Files_Editor/Color_keys\"\n",
    "\n",
    "# Obtener las listas de archivos en cada carpeta\n",
    "archivos_original = sorted(os.listdir(carpeta_original))\n",
    "archivos_editados = sorted(os.listdir(carpeta_editada))\n",
    "\n",
    "# Asegurarse de que ambas carpetas tengan el mismo número de archivos\n",
    "if len(archivos_original) != len(archivos_editados):\n",
    "    raise ValueError(\"Las carpetas no tienen el mismo número de archivos\")\n",
    "\n",
    "# Renombrar los archivos en la carpeta editada usando los nombres de la carpeta original\n",
    "for original, editado in zip(archivos_original, archivos_editados):\n",
    "    ruta_original = os.path.join(carpeta_original, original)\n",
    "    ruta_editada = os.path.join(carpeta_editada, editado)\n",
    "    \n",
    "    # Obtener la extensión del archivo editado\n",
    "    extension = os.path.splitext(editado)[1]\n",
    "    \n",
    "    # Crear la nueva ruta con el nombre del archivo original y la extensión del archivo editado\n",
    "    nueva_ruta_editada = os.path.join(carpeta_editada, os.path.splitext(original)[0] + extension)\n",
    "    \n",
    "    # Renombrar el archivo editado\n",
    "    os.rename(ruta_editada, nueva_ruta_editada)\n",
    "\n",
    "print(\"Renombrado completado.\")\n"
   ]
  },
  {
   "cell_type": "markdown",
   "id": "4c2a8f6f-b029-4fb2-82dc-73bfcff37117",
   "metadata": {},
   "source": [
    "## Reescalado"
   ]
  },
  {
   "cell_type": "code",
   "execution_count": 20,
   "id": "32053815-388a-4adb-bc07-e3d27a75d22b",
   "metadata": {},
   "outputs": [
    {
     "name": "stdout",
     "output_type": "stream",
     "text": [
      "Redimensionado completado. Las imágenes redimensionadas se guardaron en C:/Users/Jei/Documents/Files_Editor/Color_keys\n"
     ]
    }
   ],
   "source": [
    "# Dimensiones deseadas para las imágenes redimensionadas\n",
    "ancho_deseado = 720  # Cambia esto según lo necesites\n",
    "alto_deseado = 1280  # Cambia esto según lo necesites\n",
    "\n",
    "# Obtener la lista de imágenes en la carpeta de origen\n",
    "lista_imagenes = sorted(os.listdir(carpeta_editada))\n",
    "\n",
    "# Iterar sobre cada imagen en la carpeta de origen\n",
    "for nombre_imagen in lista_imagenes:\n",
    "    # Leer la imagen\n",
    "    ruta_imagen = os.path.join(carpeta_editada, nombre_imagen)\n",
    "    imagen = cv2.imread(ruta_imagen)\n",
    "    \n",
    "    if imagen is not None:\n",
    "        # Redimensionar la imagen\n",
    "        imagen_redimensionada = cv2.resize(imagen, (ancho_deseado, alto_deseado))\n",
    "        \n",
    "        # Guardar la imagen redimensionada en la carpeta de destino\n",
    "        ruta_destino = os.path.join(carpeta_editada, nombre_imagen)\n",
    "        cv2.imwrite(ruta_destino, imagen_redimensionada)\n",
    "    else:\n",
    "        print(f\"Error al leer la imagen {ruta_imagen}\")\n",
    "\n",
    "print(f\"Redimensionado completado. Las imágenes redimensionadas se guardaron en {carpeta_editada}\")"
   ]
  },
  {
   "cell_type": "markdown",
   "id": "aaf42965-6182-4610-aca9-6def61581edb",
   "metadata": {},
   "source": [
    "## Subdivision"
   ]
  },
  {
   "cell_type": "code",
   "execution_count": 9,
   "id": "ad4b1142-0639-43d0-9855-ea8c32d68dc9",
   "metadata": {},
   "outputs": [
    {
     "name": "stdout",
     "output_type": "stream",
     "text": [
      "Proceso completado. Las imágenes se han dividido en subcarpetas dentro de C:/Users/Jei/Documents/Files_Editor/Subdivididas\n"
     ]
    }
   ],
   "source": [
    "# Ruta de la carpeta que contiene las imágenes a transferir\n",
    "carpeta_transfer = \"C:/Users/Jei/Documents/Files_Editor/Clean\"\n",
    "\n",
    "# Ruta de la carpeta donde se guardarán las subcarpetas con las imágenes\n",
    "carpeta_destino = \"C:/Users/Jei/Documents/Files_Editor/Subdivididas\"\n",
    "\n",
    "# Crear la carpeta de destino si no existe\n",
    "if not os.path.exists(carpeta_destino):\n",
    "    os.makedirs(carpeta_destino)\n",
    "\n",
    "# Obtener la lista de imágenes en la carpeta de origen\n",
    "lista_imagenes = sorted(os.listdir(carpeta_transfer))\n",
    "\n",
    "# Máximo de imágenes por subcarpeta\n",
    "max_imagenes_por_carpeta = 18\n",
    "\n",
    "# Inicializar contador de subcarpetas\n",
    "contador_carpeta = 0\n",
    "\n",
    "# Iterar sobre las imágenes y dividirlas en subcarpetas\n",
    "for i in range(0, len(lista_imagenes), max_imagenes_por_carpeta):\n",
    "    # Crear el nombre de la nueva subcarpeta\n",
    "    nombre_subcarpeta = f\"subcarpeta_{contador_carpeta:03d}\"\n",
    "    ruta_subcarpeta = os.path.join(carpeta_destino, nombre_subcarpeta)\n",
    "    \n",
    "    # Crear la subcarpeta si no existe\n",
    "    if not os.path.exists(ruta_subcarpeta):\n",
    "        os.makedirs(ruta_subcarpeta)\n",
    "    \n",
    "    # Obtener el grupo de imágenes para la subcarpeta actual\n",
    "    grupo_imagenes = lista_imagenes[i:i + max_imagenes_por_carpeta]\n",
    "    \n",
    "    # Copiar cada imagen del grupo a la subcarpeta correspondiente\n",
    "    for nombre_imagen in grupo_imagenes:\n",
    "        ruta_imagen_origen = os.path.join(carpeta_transfer, nombre_imagen)\n",
    "        ruta_imagen_destino = os.path.join(ruta_subcarpeta, nombre_imagen)\n",
    "        shutil.copy2(ruta_imagen_origen, ruta_imagen_destino)\n",
    "    \n",
    "    # Incrementar el contador de subcarpetas\n",
    "    contador_carpeta += 1\n",
    "\n",
    "print(f\"Proceso completado. Las imágenes se han dividido en subcarpetas dentro de {carpeta_destino}\")\n"
   ]
  },
  {
   "cell_type": "markdown",
   "id": "9ea92531-73c2-42a0-8ab6-573ee64b4495",
   "metadata": {},
   "source": [
    "## Overlay"
   ]
  },
  {
   "cell_type": "code",
   "execution_count": 30,
   "id": "88f180ff-afd7-414b-b8a9-7ce3b29b680e",
   "metadata": {},
   "outputs": [],
   "source": [
    "directorio = 'C:/Users/Jei/Documents/Files_Editor/Overlay'\n",
    "resultado = directorio + '/Overlay'\n",
    "\n",
    "carpetas = os.listdir(directorio)\n",
    "#Crear carpeta resultado si no existe\n",
    "if not os.path.exists(resultado):\n",
    "  os.makedirs(resultado)\n",
    "else:\n",
    "  # Obtenemos la lista de archivos de la carpeta\n",
    "  archivos = os.listdir(resultado)\n",
    "  # Recorremos cada archivo y lo eliminamos\n",
    "  for archivo in archivos:\n",
    "    os.remove(resultado + '/' + archivo)\n",
    "\n",
    "def imprimir_porcentaje(iteracion, total_fotogramas):\n",
    "    porcentaje = (iteracion / total_fotogramas) * 100\n",
    "    print(\"\\rProgreso: {:.2f}%\".format(porcentaje), end=\"\")\n",
    "\n",
    "frames = []\n",
    "for carpeta in carpetas:\n",
    "    if carpeta.startswith(\"out_\"):\n",
    "        fotogramas_carpeta = os.listdir(os.path.join(directorio,carpeta))\n",
    "        frames.extend(fotogramas_carpeta)\n",
    "f = len(frames)"
   ]
  },
  {
   "cell_type": "code",
   "execution_count": 31,
   "id": "73966673-6933-4406-93d7-5a6ac3db3553",
   "metadata": {},
   "outputs": [
    {
     "name": "stdout",
     "output_type": "stream",
     "text": [
      "Progreso: 100.00%Proceso terminado\n"
     ]
    }
   ],
   "source": [
    "carpetas = os.listdir(directorio)\n",
    "i = 0\n",
    "carpetas.sort()\n",
    "\n",
    "for carpeta in carpetas:\n",
    "    # Verificamos si la carpeta cumple con el patrón \"out_[#####]\"\n",
    "    if 'out_' in carpeta:\n",
    "        # Obtenemos el número del fotograma key\n",
    "        numero_key = int(carpeta.split('_')[1])\n",
    "        \n",
    "        # Abrimos los fotogramas de la carpeta\n",
    "        fotogramas = os.listdir(directorio + '/' + carpeta)\n",
    "        \n",
    "        # Lista de fotogramas como números\n",
    "        numeros = [int(fotograma.split('.')[0]) for fotograma in fotogramas]\n",
    "        numero_menor = min(numeros)\n",
    "        numero_mayor = max(numeros)\n",
    "        \n",
    "        # Recorremos cada fotograma\n",
    "        for fotograma in fotogramas:\n",
    "            numero_fotograma = int(fotograma.split('.')[0])\n",
    "            \n",
    "            # Abrimos el fotograma\n",
    "            img = cv2.imread(directorio + '/' + carpeta + '/' + fotograma)\n",
    "            \n",
    "            # Revisamos si existe ya ese fotograma en resultados\n",
    "            img_base_path = resultado + '/' + fotograma\n",
    "            if os.path.exists(img_base_path):\n",
    "                img_base = cv2.imread(img_base_path)\n",
    "            else:\n",
    "                img_base = img\n",
    "            \n",
    "            # Determinamos la opacidad en función de la distancia al número clave\n",
    "            if numero_fotograma < numero_key:\n",
    "                # Fotogramas antes del número clave, menor transparencia cerca del menor fotograma\n",
    "                distancia_máxima = numero_key - numero_menor\n",
    "                distancia_actual = numero_key - numero_fotograma\n",
    "                opacidad = distancia_actual / distancia_máxima  # Más cerca al número_menor, más transparente\n",
    "            elif numero_fotograma > numero_key:\n",
    "                # Fotogramas después del número clave, menor transparencia cerca del mayor fotograma\n",
    "                distancia_máxima = numero_mayor - numero_key\n",
    "                distancia_actual = numero_fotograma - numero_key\n",
    "                opacidad = 1 - (distancia_actual / distancia_máxima)  # Más cerca al número_key, más opaco\n",
    "            else:\n",
    "                # Si es el fotograma clave, opacidad total (completamente visible)\n",
    "                opacidad = 1.0\n",
    "            \n",
    "            # Aplicamos la opacidad a la imagen\n",
    "            img_resultado = cv2.addWeighted(img, 1 - opacidad, img_base, opacidad, 0)\n",
    "            \n",
    "            # Guardamos la imagen resultante en la carpeta resultados\n",
    "            cv2.imwrite(img_base_path, img_resultado)\n",
    "            \n",
    "            # Porcentaje de progreso\n",
    "            i += 1\n",
    "            imprimir_porcentaje(i, f)\n",
    "\n",
    "print('Proceso terminado')\n"
   ]
  },
  {
   "cell_type": "markdown",
   "id": "173ee9df-ca32-4b87-804a-de1417f85266",
   "metadata": {},
   "source": [
    "## Video"
   ]
  },
  {
   "cell_type": "code",
   "execution_count": 32,
   "id": "cef2c090-4c0e-4bde-89f3-971d1936ccc2",
   "metadata": {},
   "outputs": [
    {
     "name": "stdout",
     "output_type": "stream",
     "text": [
      "Video creado exitosamente en C:/Users/Jei/Documents/Files_Editor/Overlay/video_resultado.mp4\n"
     ]
    }
   ],
   "source": [
    "# Función para crear un video a partir de una secuencia de imágenes\n",
    "def crear_video(directorio, output_path, fps=24):\n",
    "    # Obtener la lista de imágenes en la carpeta\n",
    "    imagenes = sorted(os.listdir(directorio))\n",
    "    # Verificar que la carpeta no esté vacía\n",
    "    if not imagenes:\n",
    "        print(\"No se encontraron imágenes en la carpeta.\")\n",
    "        return\n",
    "    \n",
    "    # Leer la primera imagen para obtener el tamaño del video\n",
    "    primer_imagen = cv2.imread(os.path.join(directorio, imagenes[0]))\n",
    "    alto, ancho, _ = primer_imagen.shape\n",
    "    \n",
    "    # Crear el objeto de video\n",
    "    video = cv2.VideoWriter(output_path, cv2.VideoWriter_fourcc(*'mp4v'), fps, (ancho, alto))\n",
    "    \n",
    "    # Añadir cada imagen al video\n",
    "    for imagen in imagenes:\n",
    "        img = cv2.imread(os.path.join(directorio, imagen))\n",
    "        video.write(img)\n",
    "    \n",
    "    # Liberar el objeto de video\n",
    "    video.release()\n",
    "    print(f\"Video creado exitosamente en {output_path}\")\n",
    "\n",
    "# Parámetros\n",
    "directorio_imagenes = \"C:/Users/Jei/Documents/Files_Editor/Overlay/Overlay\"\n",
    "output_video_path = \"C:/Users/Jei/Documents/Files_Editor/Overlay/video_resultado.mp4\"\n",
    "\n",
    "# Crear el video\n",
    "crear_video(directorio_imagenes, output_video_path, fps=12)"
   ]
  },
  {
   "cell_type": "code",
   "execution_count": null,
   "id": "06120196-e834-4e23-a0cc-0da0bba4a1fa",
   "metadata": {},
   "outputs": [],
   "source": []
  },
  {
   "cell_type": "code",
   "execution_count": null,
   "id": "94cc328d-24b8-4982-b6ce-607a5875765a",
   "metadata": {},
   "outputs": [],
   "source": []
  }
 ],
 "metadata": {
  "kernelspec": {
   "display_name": "Python 3 (ipykernel)",
   "language": "python",
   "name": "python3"
  },
  "language_info": {
   "codemirror_mode": {
    "name": "ipython",
    "version": 3
   },
   "file_extension": ".py",
   "mimetype": "text/x-python",
   "name": "python",
   "nbconvert_exporter": "python",
   "pygments_lexer": "ipython3",
   "version": "3.12.4"
  }
 },
 "nbformat": 4,
 "nbformat_minor": 5
}
