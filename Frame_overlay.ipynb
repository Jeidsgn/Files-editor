{
  "cells": [
    {
      "cell_type": "markdown",
      "metadata": {
        "id": "view-in-github",
        "colab_type": "text"
      },
      "source": [
        "<a href=\"https://colab.research.google.com/github/Jeidsgn/Frame_overlay/blob/main/Frame_overlay.ipynb\" target=\"_parent\"><img src=\"https://colab.research.google.com/assets/colab-badge.svg\" alt=\"Open In Colab\"/></a>"
      ]
    },
    {
      "cell_type": "code",
      "execution_count": null,
      "metadata": {
        "colab": {
          "base_uri": "https://localhost:8080/"
        },
        "id": "UaefZfJW8PBT",
        "outputId": "1b765b57-1591-4cb6-83dd-cef4212d378b"
      },
      "outputs": [
        {
          "output_type": "stream",
          "name": "stdout",
          "text": [
            "Mounted at /content/drive\n"
          ]
        }
      ],
      "source": [
        "# Conectarse con Drive\n",
        "from google.colab import drive\n",
        "drive.mount('/content/drive', force_remount=True)"
      ]
    },
    {
      "cell_type": "code",
      "execution_count": null,
      "metadata": {
        "id": "vdvh27lV8VjL"
      },
      "outputs": [],
      "source": [
        "import os\n",
        "import cv2\n",
        "import numpy as np\n",
        "from google.colab.patches import cv2_imshow"
      ]
    },
    {
      "cell_type": "markdown",
      "source": [
        "En *'directorio'* se ubica la cerpeta donde se encuentran las carpetas resultantes de EbSynth.\n",
        "En *'resultado'* se escribe el nombre dela carpeta donde estará el resultado de la superposición. No es necesario que esté creada, pues se creará automaticamente."
      ],
      "metadata": {
        "id": "1vwnjoI1m0eh"
      }
    },
    {
      "cell_type": "code",
      "source": [
        "directorio = '/content/drive/MyDrive/backup/Docu/Diseño/anime/Experimen2/filtro'\n",
        "resultado = directorio + '/Overlay'\n",
        "\n",
        "\n",
        "carpetas = os.listdir(directorio)\n",
        "#Crear carpeta resultado si no existe\n",
        "if not os.path.exists(resultado):\n",
        "  os.makedirs(resultado)\n",
        "else:\n",
        "  # Obtenemos la lista de archivos de la carpeta\n",
        "  archivos = os.listdir(resultado)\n",
        "  # Recorremos cada archivo y lo eliminamos\n",
        "  for archivo in archivos:\n",
        "    os.remove(resultado + '/' + archivo)"
      ],
      "metadata": {
        "id": "z0WrL5Na8LD-"
      },
      "execution_count": null,
      "outputs": []
    },
    {
      "cell_type": "code",
      "source": [
        "def imprimir_porcentaje(iteracion, total_fotogramas):\n",
        "    porcentaje = (iteracion / total_fotogramas) * 100\n",
        "    print(\"\\rProgreso: {:.2f}%\".format(porcentaje), end=\"\")\n",
        "\n",
        "frames = []\n",
        "for carpeta in carpetas:\n",
        "    if carpeta.startswith(\"out_\"):\n",
        "        fotogramas_carpeta = os.listdir(os.path.join(directorio,carpeta))\n",
        "        frames.extend(fotogramas_carpeta)\n",
        "f = len(frames)"
      ],
      "metadata": {
        "id": "ifk5ZWlXclgo"
      },
      "execution_count": null,
      "outputs": []
    },
    {
      "cell_type": "code",
      "execution_count": null,
      "metadata": {
        "id": "ULRYc3RP9w3z"
      },
      "outputs": [],
      "source": [
        "carpetas = os.listdir(directorio)\n",
        "i=0\n",
        "carpetas.sort()\n",
        "for carpeta in carpetas:\n",
        "  # Verificamos si la carpeta cumple con el patrón \"out_[#####]\"\n",
        "  if 'out_' in carpeta:\n",
        "    # Obtenemos el número del fotograma key\n",
        "    numero = carpeta.split('_')[1]\n",
        "    # Abrimos los fotogramas de la carpeta\n",
        "    fotogramas = os.listdir(directorio + '/' + carpeta)\n",
        "    # Abrimos el primer fotograma para obtener sus dimensiones\n",
        "    img = cv2.imread(directorio + '/' + carpeta + '/' + fotogramas[0])\n",
        "    # Obtenemos el menor y mayor fotograma, primero la lista de nombres\n",
        "    numeros = []\n",
        "    # Pasamos nombres a números\n",
        "    for fotograma in fotogramas:\n",
        "      nombre = int(fotograma.split('.')[0])\n",
        "      numeros.append(nombre)\n",
        "    # Obtenemos el menor y mayor fotograma\n",
        "    numero_menor = min(numeros)\n",
        "    numero_mayor = max(numeros)\n",
        "    # Recorremos cada fotograma\n",
        "    for fotograma in fotogramas:\n",
        "         \n",
        "      # Abrimos el fotograma\n",
        "      img = cv2.imread(directorio + '/' + carpeta + '/' + fotograma)\n",
        "      # revisamos si existe ya ese fotograma en resultados\n",
        "      if os.path.exists(resultado + '/' + fotograma):\n",
        "        # Si existe, usamos ese como base\n",
        "        img_base = cv2.imread(resultado + '/' + fotograma)\n",
        "      else:\n",
        "        # si no, usamos el fotograma abierto\n",
        "        img_base = img\n",
        "      if int(numero)<int(fotograma.split('.')[0]):\n",
        "        # Calculamos la distancia máxima entre el fotograma key y el fotograma mayor\n",
        "        distancia_máxima = abs(numero_mayor - int(numero))\n",
        "        # Calculamos la distancia del fotograma actual al fotograma key\n",
        "        distancia_al_key = abs(int(numero) - int(fotograma.split('.')[0]))\n",
        "        # Calculamos la opacidad de manera lineal\n",
        "        opacidad = 1-(distancia_al_key / distancia_máxima)\n",
        "      elif int(numero)>int(fotograma.split('.')[0]):\n",
        "        # Calculamos la distancia máxima entre el fotograma key y el fotograma menor\n",
        "        distancia_máxima = abs(numero_menor - int(numero))\n",
        "        # Calculamos la distancia del fotograma actual al fotograma key\n",
        "        distancia_al_key = abs(int(numero) - int(fotograma.split('.')[0]))\n",
        "        # Calculamos la opacidad de manera lineal\n",
        "        opacidad = 1-(distancia_al_key / (distancia_máxima))  \n",
        "      else:\n",
        "        opacidad = 1\n",
        "      # Aplicamos la opacidad a la imagen\n",
        "      img_resultado = cv2.addWeighted(img_base, 1-opacidad, img, opacidad, 0)\n",
        "      \n",
        "      #cv2_imshow(img_resultado)\n",
        "      # Guardamos la imagen resultante en la carpeta resultados\n",
        "      cv2.imwrite(resultado + '/' + fotograma, img_resultado)\n",
        "      # Porcentaje\n",
        "      i += 1\n",
        "      imprimir_porcentaje(i, f)\n",
        "\n",
        "print('Proceso terminado')"
      ]
    }
  ],
  "metadata": {
    "colab": {
      "provenance": [],
      "authorship_tag": "ABX9TyOhWX4pn/o/ur/XhYtyzC3U",
      "include_colab_link": true
    },
    "kernelspec": {
      "display_name": "Python 3",
      "name": "python3"
    },
    "language_info": {
      "name": "python"
    }
  },
  "nbformat": 4,
  "nbformat_minor": 0
}