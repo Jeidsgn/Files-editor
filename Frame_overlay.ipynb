{
  "cells": [
    {
      "cell_type": "markdown",
      "metadata": {
        "id": "view-in-github",
        "colab_type": "text"
      },
      "source": [
        "<a href=\"https://colab.research.google.com/github/Jeidsgn/Frame_overlay/blob/main/Frame_overlay.ipynb\" target=\"_parent\"><img src=\"https://colab.research.google.com/assets/colab-badge.svg\" alt=\"Open In Colab\"/></a>"
      ]
    },
    {
      "cell_type": "code",
      "execution_count": null,
      "metadata": {
        "colab": {
          "base_uri": "https://localhost:8080/"
        },
        "id": "UaefZfJW8PBT",
        "outputId": "1b765b57-1591-4cb6-83dd-cef4212d378b"
      },
      "outputs": [
        {
          "output_type": "stream",
          "name": "stdout",
          "text": [
            "Mounted at /content/drive\n"
          ]
        }
      ],
      "source": [
        "# Conectarse con Drive\n",
        "from google.colab import drive\n",
        "drive.mount('/content/drive', force_remount=True)"
      ]
    },
    {
      "cell_type": "code",
      "execution_count": null,
      "metadata": {
        "id": "vdvh27lV8VjL"
      },
      "outputs": [],
      "source": [
        "import os\n",
        "import cv2\n",
        "import numpy as np\n",
        "from google.colab.patches import cv2_imshow"
      ]
    },
    {
      "cell_type": "code",
      "source": [
        "directorio = '/content/drive/MyDrive/backup/Docu/Diseño/anime/Experimen2/filtro'\n",
        "resultado = directorio + '/multiplicación'\n",
        "carpetas = os.listdir(directorio)\n",
        "#Crear carpeta resultados si no existe\n",
        "if not os.path.exists(resultado):\n",
        "  os.makedirs(resultado)\n",
        "else:\n",
        "  # Obtenemos la lista de archivos de la carpeta\n",
        "  archivos = os.listdir(resultado)\n",
        "  # Recorremos cada archivo y lo eliminamos\n",
        "  for archivo in archivos:\n",
        "    os.remove(resultado + '/' + archivo)"
      ],
      "metadata": {
        "id": "z0WrL5Na8LD-",
        "colab": {
          "base_uri": "https://localhost:8080/"
        },
        "outputId": "9d411832-947f-425e-cdeb-71aa0b0e31ef"
      },
      "execution_count": null,
      "outputs": [
        {
          "output_type": "error",
          "ename": "FileNotFoundError",
          "evalue": "ignored",
          "traceback": [
            "\u001b[0;31m---------------------------------------------------------------------------\u001b[0m",
            "\u001b[0;31mFileNotFoundError\u001b[0m                         Traceback (most recent call last)",
            "\u001b[0;32m<ipython-input-3-7fd92f8b72e9>\u001b[0m in \u001b[0;36m<module>\u001b[0;34m\u001b[0m\n\u001b[1;32m      1\u001b[0m \u001b[0mdirectorio\u001b[0m \u001b[0;34m=\u001b[0m \u001b[0;34m'/content/drive/MyDrive/backup/Docu/Diseño/anime/Experimen2/filtro'\u001b[0m\u001b[0;34m\u001b[0m\u001b[0;34m\u001b[0m\u001b[0m\n\u001b[1;32m      2\u001b[0m \u001b[0mresultado\u001b[0m \u001b[0;34m=\u001b[0m \u001b[0mdirectorio\u001b[0m \u001b[0;34m+\u001b[0m \u001b[0;34m'/multiplicación'\u001b[0m\u001b[0;34m\u001b[0m\u001b[0;34m\u001b[0m\u001b[0m\n\u001b[0;32m----> 3\u001b[0;31m \u001b[0mcarpetas\u001b[0m \u001b[0;34m=\u001b[0m \u001b[0mos\u001b[0m\u001b[0;34m.\u001b[0m\u001b[0mlistdir\u001b[0m\u001b[0;34m(\u001b[0m\u001b[0mdirectorio\u001b[0m\u001b[0;34m)\u001b[0m\u001b[0;34m\u001b[0m\u001b[0;34m\u001b[0m\u001b[0m\n\u001b[0m\u001b[1;32m      4\u001b[0m \u001b[0;31m#Crear carpeta resultados si no existe\u001b[0m\u001b[0;34m\u001b[0m\u001b[0;34m\u001b[0m\u001b[0;34m\u001b[0m\u001b[0m\n\u001b[1;32m      5\u001b[0m \u001b[0;32mif\u001b[0m \u001b[0;32mnot\u001b[0m \u001b[0mos\u001b[0m\u001b[0;34m.\u001b[0m\u001b[0mpath\u001b[0m\u001b[0;34m.\u001b[0m\u001b[0mexists\u001b[0m\u001b[0;34m(\u001b[0m\u001b[0mresultado\u001b[0m\u001b[0;34m)\u001b[0m\u001b[0;34m:\u001b[0m\u001b[0;34m\u001b[0m\u001b[0;34m\u001b[0m\u001b[0m\n",
            "\u001b[0;31mFileNotFoundError\u001b[0m: [Errno 2] No such file or directory: '/content/drive/MyDrive/backup/Docu/Diseño/anime/Experimen2/filtro'"
          ]
        }
      ]
    },
    {
      "cell_type": "code",
      "source": [
        "# Hacer transparente un color específico\n",
        "def trans(img):\n",
        "    # Comprobar el número de canales de la imagen\n",
        "    if img.shape[2] == 4:\n",
        "        # Si tiene 4 canales, separar los canales RGB y alpha\n",
        "        b,g,r,alpha = cv2.split(img)\n",
        "    elif img.shape[2] == 3:\n",
        "        # Si tiene 3 canales, separar los canales RGB y calcular el canal alpha\n",
        "        b,g,r = cv2.split(img)\n",
        "        alpha = (255 - np.mean([b,g,r], axis=0)).astype(np.uint8)\n",
        "    else:\n",
        "        raise ValueError(\"La imagen debe tener 3 o 4 canales\")\n",
        "    # Unir la imagen y el canal alfa\n",
        "    img_alpha = cv2.merge((b,g,r,alpha))\n",
        "    return img_alpha\n",
        "\n",
        "def imprimir_porcentaje(iteracion, total_fotogramas):\n",
        "    porcentaje = (iteracion / total_fotogramas) * 100\n",
        "    print(\"\\rProgreso: {:.2f}%\".format(porcentaje), end=\"\")\n",
        "\n",
        "frames = []\n",
        "for carpeta in carpetas:\n",
        "    if carpeta.startswith(\"out_\"):\n",
        "        fotogramas_carpeta = os.listdir(os.path.join(directorio,carpeta))\n",
        "        frames.extend(fotogramas_carpeta)\n",
        "f = len(frames)"
      ],
      "metadata": {
        "id": "ifk5ZWlXclgo"
      },
      "execution_count": null,
      "outputs": []
    },
    {
      "cell_type": "code",
      "source": [
        "# Lista de colores RGB deseados\n",
        "colors = [[255, 255, 255], #blanco\n",
        "          [0, 0, 0], #negro\n",
        "          [255, 55, 0], #azul rey\n",
        "          [255, 120, 0], #azul claro\n",
        "          [0, 0, 160], #vinotinto\n",
        "          [0, 130, 0], #Verde cali\n",
        "          [0, 130, 255], #Amarillo\n",
        "          [200, 255, 255], #Beige\n",
        "          [0, 160, 0], #Verde claro\n",
        "          [255, 255, 0], #Azul celeste\n",
        "          [0, 0, 255], #Rojo\n",
        "          [0, 90, 255], #Naranja\n",
        "          [255, 120, 80], #Morado claro\n",
        "          [0, 100, 190], #Amarillo quemado\n",
        "          [255, 40, 100], #Morado\n",
        "          [150, 0, 255], #Fucsia\n",
        "          [200, 160, 255], #Rosa\n",
        "          [70, 0, 0], #Café\n",
        "          [60, 0, 0], #Azul oscuro\n",
        "          ]"
      ],
      "metadata": {
        "id": "DJ5TXDTPrYPy"
      },
      "execution_count": null,
      "outputs": []
    },
    {
      "cell_type": "code",
      "execution_count": null,
      "metadata": {
        "id": "ULRYc3RP9w3z"
      },
      "outputs": [],
      "source": [
        "directorio = '/content/drive/MyDrive/backup/Docu/Diseño/anime/Experimen2/filtro'\n",
        "resultado = directorio + '/multiplicación'\n",
        "carpetas = os.listdir(directorio)\n",
        "i=0\n",
        "carpetas.sort()\n",
        "for carpeta in carpetas:\n",
        "  # Verificamos si la carpeta cumple con el patrón \"out_[#####]\"\n",
        "  if 'out_' in carpeta:\n",
        "    # Obtenemos el número del fotograma key\n",
        "    numero = carpeta.split('_')[1]\n",
        "    # Abrimos los fotogramas de la carpeta\n",
        "    fotogramas = os.listdir(directorio + '/' + carpeta)\n",
        "    # Abrimos el primer fotograma para obtener sus dimensiones\n",
        "    img = cv2.imread(directorio + '/' + carpeta + '/' + fotogramas[0])\n",
        "    # Obtenemos el menor y mayor fotograma, primero la lista de nombres\n",
        "    numeros = []\n",
        "    # Pasamos nombres a números\n",
        "    for fotograma in fotogramas:\n",
        "      nombre = int(fotograma.split('.')[0])\n",
        "      numeros.append(nombre)\n",
        "    # Obtenemos el menor y mayor fotograma\n",
        "    numero_menor = min(numeros)\n",
        "    numero_mayor = max(numeros)\n",
        "    # Recorremos cada fotograma\n",
        "    for fotograma in fotogramas:\n",
        "         \n",
        "      # Abrimos el fotograma\n",
        "      img = cv2.imread(directorio + '/' + carpeta + '/' + fotograma)\n",
        "      # revisamos si existe ya ese fotograma en resultados\n",
        "      if os.path.exists(resultado + '/' + fotograma):\n",
        "        # Si existe, usamos ese como base\n",
        "        img_base = cv2.imread(resultado + '/' + fotograma)\n",
        "      else:\n",
        "        # si no, usamos el fotograma abierto\n",
        "        img_base = img\n",
        "      if int(numero)<int(fotograma.split('.')[0]):\n",
        "        # Calculamos la distancia máxima entre el fotograma key y el fotograma mayor\n",
        "        distancia_máxima = abs(numero_mayor - int(numero))\n",
        "        # Calculamos la distancia del fotograma actual al fotograma key\n",
        "        distancia_al_key = abs(int(numero) - int(fotograma.split('.')[0]))\n",
        "        # Calculamos la opacidad de manera lineal\n",
        "        opacidad = 1-(distancia_al_key / distancia_máxima)\n",
        "      elif int(numero)>int(fotograma.split('.')[0]):\n",
        "        # Calculamos la distancia máxima entre el fotograma key y el fotograma menor\n",
        "        distancia_máxima = abs(numero_menor - int(numero))\n",
        "        # Calculamos la distancia del fotograma actual al fotograma key\n",
        "        distancia_al_key = abs(int(numero) - int(fotograma.split('.')[0]))\n",
        "        # Calculamos la opacidad de manera lineal\n",
        "        opacidad = 1-(distancia_al_key / (distancia_máxima))  \n",
        "      else:\n",
        "        opacidad = 1\n",
        "      # Aplicamos la opacidad a la imagen\n",
        "      img_resultado = cv2.addWeighted(img_base, 1-opacidad, img, opacidad, 0)\n",
        "      \n",
        "      #cv2_imshow(img_resultado)\n",
        "      # Guardamos la imagen resultante en la carpeta resultados\n",
        "      cv2.imwrite(resultado + '/' + fotograma, img_resultado)\n",
        "      # Porcentaje\n",
        "      i += 1\n",
        "      imprimir_porcentaje(i, f)\n",
        "\n",
        "print('Proceso terminado')"
      ]
    }
  ],
  "metadata": {
    "colab": {
      "provenance": [],
      "authorship_tag": "ABX9TyPgJ0DeaVZnHUMcSyRLslNw",
      "include_colab_link": true
    },
    "kernelspec": {
      "display_name": "Python 3",
      "name": "python3"
    },
    "language_info": {
      "name": "python"
    }
  },
  "nbformat": 4,
  "nbformat_minor": 0
}